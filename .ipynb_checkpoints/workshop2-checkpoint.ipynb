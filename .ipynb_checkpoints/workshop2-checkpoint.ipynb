{
 "cells": [
  {
   "cell_type": "markdown",
   "id": "265fcb61",
   "metadata": {},
   "source": [
    "# Teorema de límite central"
   ]
  },
  {
   "attachments": {
    "%E5%9B%BE%E7%89%87.png": {
     "image/png": "[encoded data removed]"
    }
   },
   "cell_type": "markdown",
   "id": "e05c79ae",
   "metadata": {},
   "source": [
    "## Distribución normal\n",
    "Es un modelo que es capaz de aproximar los valores aleatorios a un caso real.La discribución normal adapta una variable aleatoria a una función que depende de la media y la desviación.\n",
    "![%E5%9B%BE%E7%89%87.png](attachment:%E5%9B%BE%E7%89%87.png)\n",
    "Así como se muestra la formula anterior, \"a\" es valor inicial y \"b\" es valor final, en donde el valor aleatorio puede estar en medio dentro del rango a y b."
   ]
  },
  {
   "cell_type": "markdown",
   "id": "9e3a0b2a",
   "metadata": {},
   "source": [
    "## Simulación Monte Carlo"
   ]
  },
  {
   "cell_type": "code",
   "execution_count": 67,
   "id": "9a493e6c",
   "metadata": {},
   "outputs": [],
   "source": [
    "from symbulate import *\n",
    "#'exec(%matplotlib inline)' \n",
    "import matplotlib\n",
    "import matplotlib.pyplot as plt"
   ]
  },
  {
   "cell_type": "code",
   "execution_count": 68,
   "id": "ed27744f",
   "metadata": {},
   "outputs": [
    {
     "data": {
      "image/png": "[encoded data removed]",
      "text/plain": [
       "<Figure size 432x288 with 1 Axes>"
      ]
     },
     "metadata": {
      "needs_background": "light"
     },
     "output_type": "display_data"
    }
   ],
   "source": [
    "# clear the plot space:\n",
    "plt.clf()\n",
    "# Define the probability type of function as uniform (probability space)\n",
    "P = Uniform(0,40)\n",
    "# Define X as a random variable of the type P (uniform)\n",
    "X =RV(P)\n",
    "# Simulate the values of X and save the in the x array: \n",
    "x=X.sim(10000)\n",
    "x.plot()\n",
    "plt.show()"
   ]
  },
  {
   "cell_type": "code",
   "execution_count": 81,
   "id": "1ab216ed",
   "metadata": {
    "scrolled": false
   },
   "outputs": [
    {
     "name": "stdout",
     "output_type": "stream",
     "text": [
      "20.12436102525054\n",
      "11.567651124295375\n"
     ]
    },
    {
     "data": {
      "text/plain": [
       "'\\na) La media se acerca mucho a la mitad del rango establecido (0 - 40), y la desviación estandar de los datos siempre es menor que la media ya que la varianza de los datos no es mucho.\\nb) Debido a que los datos son aleatorios en un rango establecido, los datos no tiene mayor dispersión\\n\\n'"
      ]
     },
     "execution_count": 81,
     "metadata": {},
     "output_type": "execute_result"
    }
   ],
   "source": [
    "print(x.mean())\n",
    "print(x.std())\n",
    "\n",
    "\"\"\"\n",
    "a) La media se acerca mucho a la mitad del rango establecido (0 - 40), y la desviación estandar de los datos siempre es menor que la media ya que la varianza de los datos no es mucho.\n",
    "b) Debido a que los datos están distribuidos de manera uniforme, la densidad de los datos es menor.\n",
    "\n",
    "\"\"\""
   ]
  },
  {
   "cell_type": "code",
   "execution_count": 71,
   "id": "87815b4e",
   "metadata": {},
   "outputs": [
    {
     "data": {
      "text/html": [
       "\n",
       "    <table>\n",
       "      <thead>\n",
       "        <th width=\"10%\">Index</th>\n",
       "        <th width=\"90%\">Result</th>\n",
       "      </thead>\n",
       "      <tbody>\n",
       "        \n",
       "        <tr>\n",
       "          <td>0</td><td>(3.0162504656562117, 27.20672902858287, 8.27354604459364, 14.342604953586342, 19.18456719975697, ......</td>\n",
       "        </tr>\n",
       "        \n",
       "        <tr>\n",
       "          <td>1</td><td>(8.430713191755013, 27.04626850854406, 23.73175420130452, 21.659122424064204, 9.098161857838472, ......</td>\n",
       "        </tr>\n",
       "        \n",
       "        <tr>\n",
       "          <td>2</td><td>(30.293470710698486, 14.571544953992785, 18.473981529145927, 6.457605352061, 25.137548483755836, ......</td>\n",
       "        </tr>\n",
       "        \n",
       "        <tr>\n",
       "          <td>3</td><td>(23.482978259553583, 18.187878419704333, 5.696820023872187, 18.442033412930833, 13.254594278950837, ...</td>\n",
       "        </tr>\n",
       "        \n",
       "        <tr>\n",
       "          <td>4</td><td>(9.50508131641119, 14.342980275175776, 21.72572444327244, 12.277705733695212, 27.32352514490742, ......</td>\n",
       "        </tr>\n",
       "        \n",
       "        <tr>\n",
       "          <td>5</td><td>(13.114445721379315, 6.32925775347529, 24.115939024261927, 32.989981361986125, 31.09240074268417, .....</td>\n",
       "        </tr>\n",
       "        \n",
       "        <tr>\n",
       "          <td>6</td><td>(5.874708186914903, 7.373806553079132, 31.601807547890207, 16.20997350236771, 0.34053737112791804, ....</td>\n",
       "        </tr>\n",
       "        \n",
       "        <tr>\n",
       "          <td>7</td><td>(6.7516090989003485, 32.683681576038545, 19.389535735599914, 38.70799821232347, 14.483330594483412, ...</td>\n",
       "        </tr>\n",
       "        \n",
       "        <tr>\n",
       "          <td>8</td><td>(32.939517200187794, 21.97077187752663, 36.39422268527528, 22.333735288867764, 34.691971194156054, ....</td>\n",
       "        </tr>\n",
       "        <tr><td>...</td><td>...</td></tr>\n",
       "        <tr>\n",
       "          <td>9999</td><td>(7.181882863838438, 33.49469182264651, 14.28347020192426, 24.651746296666506, 5.755752438594479, ......</td>\n",
       "        </tr>\n",
       "        \n",
       "      </tbody>\n",
       "    </table>\n",
       "        "
      ],
      "text/plain": [
       "Index Result\n",
       "0     (3.0162504656562117, 27.20672902858287, 8.27354604459364, 14.342604953586342, 19.18456719975697, ..., 18.43360100050742)\n",
       "1     (8.430713191755013, 27.04626850854406, 23.73175420130452, 21.659122424064204, 9.098161857838472, ..., 4.415336640453749)\n",
       "2     (30.293470710698486, 14.571544953992785, 18.473981529145927, 6.457605352061, 25.137548483755836, ..., 10.777645127355996)\n",
       "3     (23.482978259553583, 18.187878419704333, 5.696820023872187, 18.442033412930833, 13.254594278950837, ..., 21.04676144016297)\n",
       "4     (9.50508131641119, 14.342980275175776, 21.72572444327244, 12.277705733695212, 27.32352514490742, ..., 14.329767445898348)\n",
       "5     (13.114445721379315, 6.32925775347529, 24.115939024261927, 32.989981361986125, 31.09240074268417, ..., 23.073945867670986)\n",
       "6     (5.874708186914903, 7.373806553079132, 31.601807547890207, 16.20997350236771, 0.34053737112791804, ..., 1.3789857811330553)\n",
       "7     (6.7516090989003485, 32.683681576038545, 19.389535735599914, 38.70799821232347, 14.483330594483412, ..., 5.779363977489411)\n",
       "8     (32.939517200187794, 21.97077187752663, 36.39422268527528, 22.333735288867764, 34.691971194156054, ..., 27.73993810156254)\n",
       "....  .........................................................................................................................\n",
       "9999  (7.181882863838438, 33.49469182264651, 14.28347020192426, 24.651746296666506, 5.755752438594479, ..., 29.351781625015995)"
      ]
     },
     "execution_count": 71,
     "metadata": {},
     "output_type": "execute_result"
    }
   ],
   "source": [
    "# Define the probability space as a vector of 25 uniform random numbers:\n",
    "P = Uniform(0,40) ** 25\n",
    "# Define XVECTOR as a vector of random variables with 25 random values \n",
    "XVECTOR =RV(P)\n",
    "# Simulate 10,000 vectors to get a matrix  \n",
    "xmatrix=XVECTOR.sim(10000)\n",
    "\n",
    "xmatrix"
   ]
  },
  {
   "cell_type": "code",
   "execution_count": 72,
   "id": "aaf48ff8",
   "metadata": {},
   "outputs": [
    {
     "data": {
      "text/html": [
       "\n",
       "    <table>\n",
       "      <thead>\n",
       "        <th width=\"10%\">Index</th>\n",
       "        <th width=\"90%\">Result</th>\n",
       "      </thead>\n",
       "      <tbody>\n",
       "        \n",
       "        <tr>\n",
       "          <td>0</td><td>22.492990877384774</td>\n",
       "        </tr>\n",
       "        \n",
       "        <tr>\n",
       "          <td>1</td><td>17.546021391481943</td>\n",
       "        </tr>\n",
       "        \n",
       "        <tr>\n",
       "          <td>2</td><td>21.93278430913567</td>\n",
       "        </tr>\n",
       "        \n",
       "        <tr>\n",
       "          <td>3</td><td>21.301191671750175</td>\n",
       "        </tr>\n",
       "        \n",
       "        <tr>\n",
       "          <td>4</td><td>23.06247383328014</td>\n",
       "        </tr>\n",
       "        \n",
       "        <tr>\n",
       "          <td>5</td><td>20.038501757372416</td>\n",
       "        </tr>\n",
       "        \n",
       "        <tr>\n",
       "          <td>6</td><td>18.026793815801554</td>\n",
       "        </tr>\n",
       "        \n",
       "        <tr>\n",
       "          <td>7</td><td>16.440232429076584</td>\n",
       "        </tr>\n",
       "        \n",
       "        <tr>\n",
       "          <td>8</td><td>17.97064536731136</td>\n",
       "        </tr>\n",
       "        <tr><td>...</td><td>...</td></tr>\n",
       "        <tr>\n",
       "          <td>9999</td><td>22.766554273567646</td>\n",
       "        </tr>\n",
       "        \n",
       "      </tbody>\n",
       "    </table>\n",
       "        "
      ],
      "text/plain": [
       "Index Result\n",
       "0     22.492990877384774\n",
       "1     17.546021391481943\n",
       "2     21.93278430913567\n",
       "3     21.301191671750175\n",
       "4     23.06247383328014\n",
       "5     20.038501757372416\n",
       "6     18.026793815801554\n",
       "7     16.440232429076584\n",
       "8     17.97064536731136\n",
       "....  ..................\n",
       "9999  22.766554273567646"
      ]
     },
     "execution_count": 72,
     "metadata": {},
     "output_type": "execute_result"
    }
   ],
   "source": [
    "# The 2nd parameter is the mathematical operation applied to each row of the random vector\n",
    "# Simulate 10,000 means of each random vector of 25 uniform distributed numbers: \n",
    "xmean = RV(P,mean).sim(10000)\n",
    "xmean"
   ]
  },
  {
   "cell_type": "code",
   "execution_count": 73,
   "id": "1eddb9b1",
   "metadata": {},
   "outputs": [
    {
     "data": {
      "image/png": "[encoded data removed]",
      "text/plain": [
       "<Figure size 432x288 with 1 Axes>"
      ]
     },
     "metadata": {
      "needs_background": "light"
     },
     "output_type": "display_data"
    }
   ],
   "source": [
    "plt.clf()\n",
    "xmean.plot()\n",
    "plt.show()"
   ]
  },
  {
   "cell_type": "code",
   "execution_count": 80,
   "id": "9329e31c",
   "metadata": {},
   "outputs": [
    {
     "name": "stdout",
     "output_type": "stream",
     "text": [
      "19.97506418887988\n",
      "2.3228493904071157\n"
     ]
    }
   ],
   "source": [
    "print(xmean.mean())\n",
    "print(xmean.std())\n",
    "\"\"\"\n",
    "a)La media de xmean es similar que x, y la desviación se redujo por la gran cantidad de datos para ser preciso sin mucha dispersión de datos.\n",
    "b)La histograma de variables aleatorios es diferente que la histograma de variables uniformes, ya que por la gran cantidad de datos que se pone a prueba, la distribución ya no es uniforme.\n",
    "\"\"\""
   ]
  },
  {
   "cell_type": "code",
   "execution_count": 82,
   "id": "eb10a930",
   "metadata": {},
   "outputs": [
    {
     "data": {
      "image/png": "[encoded data removed]",
      "text/plain": [
       "<Figure size 432x288 with 1 Axes>"
      ]
     },
     "metadata": {
      "needs_background": "light"
     },
     "output_type": "display_data"
    }
   ],
   "source": [
    "plt.clf()\n",
    "xmean.plot()\n",
    "x.plot()\n",
    "plt.show()"
   ]
  },
  {
   "cell_type": "code",
   "execution_count": 88,
   "id": "f72005b8",
   "metadata": {},
   "outputs": [
    {
     "data": {
      "image/png": "[encoded data removed]",
      "text/plain": [
       "<Figure size 432x288 with 1 Axes>"
      ]
     },
     "metadata": {
      "needs_background": "light"
     },
     "output_type": "display_data"
    }
   ],
   "source": [
    "# clear the plot space:\n",
    "plt.clf()\n",
    "# Define the probability type of function as uniform (probability space)\n",
    "P = Normal(mean=20, sd=10)\n",
    "# Define Y as a random variable of the type P (normal)\n",
    "Y =RV(P)\n",
    "# Simulate 10,000 values of Y and save the in the x array: \n",
    "y=Y.sim(10000)\n",
    "y.plot()\n",
    "plt.show()"
   ]
  },
  {
   "cell_type": "code",
   "execution_count": 89,
   "id": "4b9a3a0d",
   "metadata": {},
   "outputs": [
    {
     "name": "stdout",
     "output_type": "stream",
     "text": [
      "19.949032442325638\n",
      "9.942556991424087\n"
     ]
    }
   ],
   "source": [
    "print(y.mean())\n",
    "print(y.std())"
   ]
  },
  {
   "cell_type": "code",
   "execution_count": 92,
   "id": "85f66be5",
   "metadata": {},
   "outputs": [
    {
     "data": {
      "text/html": [
       "\n",
       "    <table>\n",
       "      <thead>\n",
       "        <th width=\"10%\">Index</th>\n",
       "        <th width=\"90%\">Result</th>\n",
       "      </thead>\n",
       "      <tbody>\n",
       "        \n",
       "        <tr>\n",
       "          <td>0</td><td>(12.191449189051763, 7.890412538009041, 18.23429201000859, 34.83137498842186, 24.20684231775925, ......</td>\n",
       "        </tr>\n",
       "        \n",
       "        <tr>\n",
       "          <td>1</td><td>(19.091758419114075, 11.792783902847457, 39.9084592937182, 13.390315880891242, 25.02101472678244, .....</td>\n",
       "        </tr>\n",
       "        \n",
       "        <tr>\n",
       "          <td>2</td><td>(18.80114749022934, 17.329167381847245, 1.7961562903756736, 31.382536204049867, 20.459308759636038, ...</td>\n",
       "        </tr>\n",
       "        \n",
       "        <tr>\n",
       "          <td>3</td><td>(18.489749075599725, 35.81913381875985, 28.512909231574646, 15.901524011147234, 21.473380154286946, ...</td>\n",
       "        </tr>\n",
       "        \n",
       "        <tr>\n",
       "          <td>4</td><td>(31.34319503088068, 16.33417682458868, 13.126340194755924, 24.70759833103221, 20.477067175776863, .....</td>\n",
       "        </tr>\n",
       "        \n",
       "        <tr>\n",
       "          <td>5</td><td>(15.303373184747024, 11.139354994627851, 9.808519744568052, 27.731053062862475, 10.684829785830065, ...</td>\n",
       "        </tr>\n",
       "        \n",
       "        <tr>\n",
       "          <td>6</td><td>(16.01537167389, 12.554043324288369, 26.93290622105161, 19.683829642319218, 19.58773272517682, ..., ...</td>\n",
       "        </tr>\n",
       "        \n",
       "        <tr>\n",
       "          <td>7</td><td>(33.04338454968091, 9.08325777606266, 30.048008394096893, 7.101894489522877, 13.096091039333665, ......</td>\n",
       "        </tr>\n",
       "        \n",
       "        <tr>\n",
       "          <td>8</td><td>(16.929589851844554, 25.14686951908013, 8.72422149854232, 46.860324022277815, 23.205504682345193, .....</td>\n",
       "        </tr>\n",
       "        <tr><td>...</td><td>...</td></tr>\n",
       "        <tr>\n",
       "          <td>9999</td><td>(18.15881498612271, 20.59101847902869, 15.950576304875728, 25.875310927488975, 29.284877576918994, ....</td>\n",
       "        </tr>\n",
       "        \n",
       "      </tbody>\n",
       "    </table>\n",
       "        "
      ],
      "text/plain": [
       "Index Result\n",
       "0     (12.191449189051763, 7.890412538009041, 18.23429201000859, 34.83137498842186, 24.20684231775925, ..., 25.240074673692146)\n",
       "1     (19.091758419114075, 11.792783902847457, 39.9084592937182, 13.390315880891242, 25.02101472678244, ..., 14.839700036311692)\n",
       "2     (18.80114749022934, 17.329167381847245, 1.7961562903756736, 31.382536204049867, 20.459308759636038, ..., 5.766802677445515)\n",
       "3     (18.489749075599725, 35.81913381875985, 28.512909231574646, 15.901524011147234, 21.473380154286946, ..., 20.460829998435106)\n",
       "4     (31.34319503088068, 16.33417682458868, 13.126340194755924, 24.70759833103221, 20.477067175776863, ..., 24.533396514832518)\n",
       "5     (15.303373184747024, 11.139354994627851, 9.808519744568052, 27.731053062862475, 10.684829785830065, ..., 17.780851391828055)\n",
       "6     (16.01537167389, 12.554043324288369, 26.93290622105161, 19.683829642319218, 19.58773272517682, ..., 19.222033193220437)\n",
       "7     (33.04338454968091, 9.08325777606266, 30.048008394096893, 7.101894489522877, 13.096091039333665, ..., 31.393844145696164)\n",
       "8     (16.929589851844554, 25.14686951908013, 8.72422149854232, 46.860324022277815, 23.205504682345193, ..., 7.698647881087409)\n",
       "....  .........................................................................................................................\n",
       "9999  (18.15881498612271, 20.59101847902869, 15.950576304875728, 25.875310927488975, 29.284877576918994, ..., 21.8786490803866)"
      ]
     },
     "execution_count": 92,
     "metadata": {},
     "output_type": "execute_result"
    }
   ],
   "source": [
    "# Define the probability space P as a vector of 25 normal random numbers:\n",
    "P = Normal(mean=20, sd=10) ** 25\n",
    "# Define RANDOMVECTOR as a vector of 25 random variables in the Probability space P \n",
    "RANDOMVECTOR = RV(P)\n",
    "# Simulate 10,000 random vectors with this distribution and save the in ymatrix: \n",
    "ymatrix=RANDOMVECTOR.sim(10000)\n",
    "\n",
    "ymatrix"
   ]
  },
  {
   "cell_type": "code",
   "execution_count": 93,
   "id": "f34fe8a3",
   "metadata": {},
   "outputs": [
    {
     "data": {
      "text/html": [
       "\n",
       "    <table>\n",
       "      <thead>\n",
       "        <th width=\"10%\">Index</th>\n",
       "        <th width=\"90%\">Result</th>\n",
       "      </thead>\n",
       "      <tbody>\n",
       "        \n",
       "        <tr>\n",
       "          <td>0</td><td>19.525604721491614</td>\n",
       "        </tr>\n",
       "        \n",
       "        <tr>\n",
       "          <td>1</td><td>18.892706080963833</td>\n",
       "        </tr>\n",
       "        \n",
       "        <tr>\n",
       "          <td>2</td><td>18.858353572499365</td>\n",
       "        </tr>\n",
       "        \n",
       "        <tr>\n",
       "          <td>3</td><td>18.89674015972036</td>\n",
       "        </tr>\n",
       "        \n",
       "        <tr>\n",
       "          <td>4</td><td>20.80979962190606</td>\n",
       "        </tr>\n",
       "        \n",
       "        <tr>\n",
       "          <td>5</td><td>20.774293993130257</td>\n",
       "        </tr>\n",
       "        \n",
       "        <tr>\n",
       "          <td>6</td><td>16.680262310683563</td>\n",
       "        </tr>\n",
       "        \n",
       "        <tr>\n",
       "          <td>7</td><td>18.984621921603747</td>\n",
       "        </tr>\n",
       "        \n",
       "        <tr>\n",
       "          <td>8</td><td>19.174523588508908</td>\n",
       "        </tr>\n",
       "        <tr><td>...</td><td>...</td></tr>\n",
       "        <tr>\n",
       "          <td>9999</td><td>19.181742143656024</td>\n",
       "        </tr>\n",
       "        \n",
       "      </tbody>\n",
       "    </table>\n",
       "        "
      ],
      "text/plain": [
       "Index Result\n",
       "0     19.525604721491614\n",
       "1     18.892706080963833\n",
       "2     18.858353572499365\n",
       "3     18.89674015972036\n",
       "4     20.80979962190606\n",
       "5     20.774293993130257\n",
       "6     16.680262310683563\n",
       "7     18.984621921603747\n",
       "8     19.174523588508908\n",
       "....  ..................\n",
       "9999  19.181742143656024"
      ]
     },
     "execution_count": 93,
     "metadata": {},
     "output_type": "execute_result"
    }
   ],
   "source": [
    "# The 2nd parameter is the mathematical operation applied to each row of the random vector\n",
    "# Simulate 10,000 means of each random vector of 25 uniform distributed numbers: \n",
    "ymean = RV(P,mean).sim(10000)\n",
    "ymean"
   ]
  },
  {
   "cell_type": "code",
   "execution_count": 94,
   "id": "75b7051e",
   "metadata": {},
   "outputs": [
    {
     "data": {
      "image/png": "[encoded data removed]",
      "text/plain": [
       "<Figure size 432x288 with 1 Axes>"
      ]
     },
     "metadata": {
      "needs_background": "light"
     },
     "output_type": "display_data"
    }
   ],
   "source": [
    "plt.clf()\n",
    "ymean.plot()\n",
    "plt.show()"
   ]
  },
  {
   "cell_type": "code",
   "execution_count": null,
   "id": "5d653e22",
   "metadata": {},
   "outputs": [],
   "source": []
  }
 ],
 "metadata": {
  "kernelspec": {
   "display_name": "Python 3 (ipykernel)",
   "language": "python",
   "name": "python3"
  },
  "language_info": {
   "codemirror_mode": {
    "name": "ipython",
    "version": 3
   },
   "file_extension": ".py",
   "mimetype": "text/x-python",
   "name": "python",
   "nbconvert_exporter": "python",
   "pygments_lexer": "ipython3",
   "version": "3.10.6"
  }
 },
 "nbformat": 4,
 "nbformat_minor": 5
}
