{
 "cells": [
  {
   "cell_type": "markdown",
   "id": "265fcb61",
   "metadata": {},
   "source": [
    "# Teorema de límite central (CLT)"
   ]
  },
  {
   "attachments": {
    "%E5%9B%BE%E7%89%87.png": {
     "image/png": "[encoded data removed]"
    }
   },
   "cell_type": "markdown",
   "id": "e05c79ae",
   "metadata": {},
   "source": [
    "## Distribución normal\n",
    "Es un modelo que es capaz de aproximar los valores aleatorios a un caso real.La discribución normal adapta una variable aleatoria a una función que depende de la media y la desviación.\n",
    "![%E5%9B%BE%E7%89%87.png](attachment:%E5%9B%BE%E7%89%87.png)\n",
    "Así como se muestra la formula anterior, \"a\" es valor inicial y \"b\" es valor final, en donde el valor aleatorio puede estar en medio dentro del rango a y b."
   ]
  },
  {
   "cell_type": "markdown",
   "id": "9e3a0b2a",
   "metadata": {},
   "source": [
    "## Simulación Monte Carlo"
   ]
  },
  {
   "cell_type": "code",
   "execution_count": 2,
   "id": "9a493e6c",
   "metadata": {},
   "outputs": [],
   "source": [
    "from symbulate import *\n",
    "#'exec(%matplotlib inline)' \n",
    "import matplotlib\n",
    "import matplotlib.pyplot as plt"
   ]
  },
  {
   "cell_type": "code",
   "execution_count": 19,
   "id": "ed27744f",
   "metadata": {},
   "outputs": [
    {
     "data": {
      "image/png": "[encoded data removed]",
      "text/plain": [
       "<Figure size 432x288 with 1 Axes>"
      ]
     },
     "metadata": {
      "needs_background": "light"
     },
     "output_type": "display_data"
    }
   ],
   "source": [
    "# clear the plot space:\n",
    "plt.clf()\n",
    "# Define the probability type of function as uniform (probability space)\n",
    "P = Uniform(0,40)\n",
    "# Define X as a random variable of the type P (uniform)\n",
    "X =RV(P)\n",
    "# Simulate the values of X and save the in the x array: \n",
    "x=X.sim(10000)\n",
    "x.plot()\n",
    "plt.show()"
   ]
  },
  {
   "cell_type": "code",
   "execution_count": 4,
   "id": "1ab216ed",
   "metadata": {
    "scrolled": false
   },
   "outputs": [
    {
     "name": "stdout",
     "output_type": "stream",
     "text": [
      "19.993989540344216\n",
      "11.460100368326101\n"
     ]
    },
    {
     "data": {
      "text/plain": [
       "'\\na) La media se acerca mucho a la mitad del rango establecido (0 - 40), y la desviación estandar de los datos siempre es menor que la media ya que la varianza de los datos no es mucho.\\nb) Debido a que los datos están distribuidos de manera uniforme, la densidad de los datos es menor.\\n\\n'"
      ]
     },
     "execution_count": 4,
     "metadata": {},
     "output_type": "execute_result"
    }
   ],
   "source": [
    "print(x.mean())\n",
    "print(x.std())\n",
    "\n",
    "\"\"\"\n",
    "a) La media se acerca mucho a la mitad del rango establecido (0 - 40), y la desviación estandar de los datos siempre es menor que la media ya que la varianza de los datos no es mucho.\n",
    "b) Debido a que los datos están distribuidos de manera uniforme, la densidad de los datos es menor.\n",
    "\n",
    "\"\"\""
   ]
  },
  {
   "cell_type": "code",
   "execution_count": 5,
   "id": "87815b4e",
   "metadata": {},
   "outputs": [
    {
     "data": {
      "text/html": [
       "\n",
       "    <table>\n",
       "      <thead>\n",
       "        <th width=\"10%\">Index</th>\n",
       "        <th width=\"90%\">Result</th>\n",
       "      </thead>\n",
       "      <tbody>\n",
       "        \n",
       "        <tr>\n",
       "          <td>0</td><td>(0.2561385363955182, 9.559078771541527, 36.318529613431416, 1.9396678145016066, 29.952523280804257, ...</td>\n",
       "        </tr>\n",
       "        \n",
       "        <tr>\n",
       "          <td>1</td><td>(16.861945061436643, 16.22239196552206, 1.620973034859925, 34.63394944302721, 26.41902954147376, ......</td>\n",
       "        </tr>\n",
       "        \n",
       "        <tr>\n",
       "          <td>2</td><td>(6.260301441440599, 38.929043909811384, 29.506091540714678, 13.006227587823357, 29.234212235920175, ...</td>\n",
       "        </tr>\n",
       "        \n",
       "        <tr>\n",
       "          <td>3</td><td>(21.081622562842316, 12.143666642672791, 16.776406979326847, 36.7075366836525, 31.298369119280313, ....</td>\n",
       "        </tr>\n",
       "        \n",
       "        <tr>\n",
       "          <td>4</td><td>(32.65703788018668, 9.702222539323579, 7.099138375510212, 15.2724243236854, 4.096855477243353, ..., ...</td>\n",
       "        </tr>\n",
       "        \n",
       "        <tr>\n",
       "          <td>5</td><td>(33.962198034980574, 17.479756865487552, 7.459808854791996, 16.394314704165467, 6.31731160981063, .....</td>\n",
       "        </tr>\n",
       "        \n",
       "        <tr>\n",
       "          <td>6</td><td>(21.350708846722416, 6.92757166141079, 36.43846191131764, 4.200524213418482, 39.9758577405705, ..., ...</td>\n",
       "        </tr>\n",
       "        \n",
       "        <tr>\n",
       "          <td>7</td><td>(26.94527488687691, 3.157029497553383, 18.537873951307798, 25.634376182105232, 16.397565904984248, ....</td>\n",
       "        </tr>\n",
       "        \n",
       "        <tr>\n",
       "          <td>8</td><td>(14.108100931326248, 27.174064497647002, 4.506909051914518, 25.290220070562455, 36.49598851828206, ....</td>\n",
       "        </tr>\n",
       "        <tr><td>...</td><td>...</td></tr>\n",
       "        <tr>\n",
       "          <td>9999</td><td>(12.449323377602909, 9.389268368864059, 9.441914238142388, 31.540569006984782, 28.828688757220604, ....</td>\n",
       "        </tr>\n",
       "        \n",
       "      </tbody>\n",
       "    </table>\n",
       "        "
      ],
      "text/plain": [
       "Index Result\n",
       "0     (0.2561385363955182, 9.559078771541527, 36.318529613431416, 1.9396678145016066, 29.952523280804257, ..., 12.46880287204311)\n",
       "1     (16.861945061436643, 16.22239196552206, 1.620973034859925, 34.63394944302721, 26.41902954147376, ..., 37.470310458338744)\n",
       "2     (6.260301441440599, 38.929043909811384, 29.506091540714678, 13.006227587823357, 29.234212235920175, ..., 16.80059036836318)\n",
       "3     (21.081622562842316, 12.143666642672791, 16.776406979326847, 36.7075366836525, 31.298369119280313, ..., 25.98943012633839)\n",
       "4     (32.65703788018668, 9.702222539323579, 7.099138375510212, 15.2724243236854, 4.096855477243353, ..., 16.540496942198505)\n",
       "5     (33.962198034980574, 17.479756865487552, 7.459808854791996, 16.394314704165467, 6.31731160981063, ..., 4.595191583021614)\n",
       "6     (21.350708846722416, 6.92757166141079, 36.43846191131764, 4.200524213418482, 39.9758577405705, ..., 35.980078155878054)\n",
       "7     (26.94527488687691, 3.157029497553383, 18.537873951307798, 25.634376182105232, 16.397565904984248, ..., 19.870153930879837)\n",
       "8     (14.108100931326248, 27.174064497647002, 4.506909051914518, 25.290220070562455, 36.49598851828206, ..., 5.853881204468094)\n",
       "....  ..........................................................................................................................\n",
       "9999  (12.449323377602909, 9.389268368864059, 9.441914238142388, 31.540569006984782, 28.828688757220604, ..., 4.099421347662262)"
      ]
     },
     "execution_count": 5,
     "metadata": {},
     "output_type": "execute_result"
    }
   ],
   "source": [
    "# Define the probability space as a vector of 25 uniform random numbers:\n",
    "P = Uniform(0,40) ** 25\n",
    "# Define XVECTOR as a vector of random variables with 25 random values \n",
    "XVECTOR =RV(P)\n",
    "# Simulate 10,000 vectors to get a matrix  \n",
    "xmatrix=XVECTOR.sim(10000)\n",
    "\n",
    "xmatrix"
   ]
  },
  {
   "cell_type": "code",
   "execution_count": 6,
   "id": "aaf48ff8",
   "metadata": {},
   "outputs": [
    {
     "data": {
      "text/html": [
       "\n",
       "    <table>\n",
       "      <thead>\n",
       "        <th width=\"10%\">Index</th>\n",
       "        <th width=\"90%\">Result</th>\n",
       "      </thead>\n",
       "      <tbody>\n",
       "        \n",
       "        <tr>\n",
       "          <td>0</td><td>24.032154110586948</td>\n",
       "        </tr>\n",
       "        \n",
       "        <tr>\n",
       "          <td>1</td><td>19.48389886085134</td>\n",
       "        </tr>\n",
       "        \n",
       "        <tr>\n",
       "          <td>2</td><td>18.730500710376766</td>\n",
       "        </tr>\n",
       "        \n",
       "        <tr>\n",
       "          <td>3</td><td>18.390379390298975</td>\n",
       "        </tr>\n",
       "        \n",
       "        <tr>\n",
       "          <td>4</td><td>17.41705582684692</td>\n",
       "        </tr>\n",
       "        \n",
       "        <tr>\n",
       "          <td>5</td><td>19.382270566213254</td>\n",
       "        </tr>\n",
       "        \n",
       "        <tr>\n",
       "          <td>6</td><td>16.986132767920306</td>\n",
       "        </tr>\n",
       "        \n",
       "        <tr>\n",
       "          <td>7</td><td>19.749661271839038</td>\n",
       "        </tr>\n",
       "        \n",
       "        <tr>\n",
       "          <td>8</td><td>20.64634548449698</td>\n",
       "        </tr>\n",
       "        <tr><td>...</td><td>...</td></tr>\n",
       "        <tr>\n",
       "          <td>9999</td><td>18.184307561948422</td>\n",
       "        </tr>\n",
       "        \n",
       "      </tbody>\n",
       "    </table>\n",
       "        "
      ],
      "text/plain": [
       "Index Result\n",
       "0     24.032154110586948\n",
       "1     19.48389886085134\n",
       "2     18.730500710376766\n",
       "3     18.390379390298975\n",
       "4     17.41705582684692\n",
       "5     19.382270566213254\n",
       "6     16.986132767920306\n",
       "7     19.749661271839038\n",
       "8     20.64634548449698\n",
       "....  ..................\n",
       "9999  18.184307561948422"
      ]
     },
     "execution_count": 6,
     "metadata": {},
     "output_type": "execute_result"
    }
   ],
   "source": [
    "# The 2nd parameter is the mathematical operation applied to each row of the random vector\n",
    "# Simulate 10,000 means of each random vector of 25 uniform distributed numbers: \n",
    "xmean = RV(P,mean).sim(10000)\n",
    "xmean"
   ]
  },
  {
   "cell_type": "code",
   "execution_count": 7,
   "id": "1eddb9b1",
   "metadata": {},
   "outputs": [
    {
     "data": {
      "image/png": "[encoded data removed]",
      "text/plain": [
       "<Figure size 432x288 with 1 Axes>"
      ]
     },
     "metadata": {
      "needs_background": "light"
     },
     "output_type": "display_data"
    }
   ],
   "source": [
    "plt.clf()\n",
    "xmean.plot()\n",
    "plt.show()"
   ]
  },
  {
   "cell_type": "code",
   "execution_count": 8,
   "id": "9329e31c",
   "metadata": {},
   "outputs": [
    {
     "name": "stdout",
     "output_type": "stream",
     "text": [
      "19.99010059438781\n",
      "2.2923974122317334\n"
     ]
    },
    {
     "data": {
      "text/plain": [
       "'\\na)La media de xmean es similar que x, y la desviación se redujo por la gran cantidad de datos para ser preciso sin mucha dispersión de datos.\\nb)La histograma de variables aleatorios es diferente que la histograma de variables uniformes, ya que por la gran cantidad de datos que se pone a prueba, la distribución ya no es uniforme.\\n'"
      ]
     },
     "execution_count": 8,
     "metadata": {},
     "output_type": "execute_result"
    }
   ],
   "source": [
    "print(xmean.mean())\n",
    "print(xmean.std())\n",
    "\"\"\"\n",
    "a)La media de xmean es similar que x, y la desviación se redujo por la gran cantidad de datos para ser preciso sin mucha dispersión de datos.\n",
    "b)La histograma de variables aleatorios es diferente que la histograma de variables uniformes, ya que por la gran cantidad de datos que se pone a prueba, la distribución ya no es uniforme.\n",
    "\"\"\""
   ]
  },
  {
   "cell_type": "code",
   "execution_count": 9,
   "id": "eb10a930",
   "metadata": {},
   "outputs": [
    {
     "data": {
      "image/png": "[encoded data removed]",
      "text/plain": [
       "<Figure size 432x288 with 1 Axes>"
      ]
     },
     "metadata": {
      "needs_background": "light"
     },
     "output_type": "display_data"
    }
   ],
   "source": [
    "plt.clf()\n",
    "xmean.plot()\n",
    "x.plot()\n",
    "plt.show()"
   ]
  },
  {
   "cell_type": "code",
   "execution_count": 10,
   "id": "f72005b8",
   "metadata": {},
   "outputs": [
    {
     "data": {
      "image/png": "[encoded data removed]",
      "text/plain": [
       "<Figure size 432x288 with 1 Axes>"
      ]
     },
     "metadata": {
      "needs_background": "light"
     },
     "output_type": "display_data"
    }
   ],
   "source": [
    "# clear the plot space:\n",
    "plt.clf()\n",
    "# Define the probability type of function as uniform (probability space)\n",
    "P = Normal(mean=20, sd=10)\n",
    "# Define Y as a random variable of the type P (normal)\n",
    "Y =RV(P)\n",
    "# Simulate 10,000 values of Y and save the in the x array: \n",
    "y=Y.sim(10000)\n",
    "y.plot()\n",
    "plt.show()"
   ]
  },
  {
   "cell_type": "code",
   "execution_count": 11,
   "id": "4b9a3a0d",
   "metadata": {},
   "outputs": [
    {
     "name": "stdout",
     "output_type": "stream",
     "text": [
      "20.10674259539432\n",
      "9.997383586462345\n"
     ]
    }
   ],
   "source": [
    "print(y.mean())\n",
    "print(y.std())\n",
    "\"\"\"\n",
    "a)La media y la desviación es casi similar a los datos puesto en la sumulación con 10000 valores, ya que el distribución normal toma estos valores para simular una curvatura \"perfecta\" como la diagrama de Gauss.\n",
    "\"\"\""
   ]
  },
  {
   "cell_type": "code",
   "execution_count": 12,
   "id": "85f66be5",
   "metadata": {},
   "outputs": [
    {
     "data": {
      "text/html": [
       "\n",
       "    <table>\n",
       "      <thead>\n",
       "        <th width=\"10%\">Index</th>\n",
       "        <th width=\"90%\">Result</th>\n",
       "      </thead>\n",
       "      <tbody>\n",
       "        \n",
       "        <tr>\n",
       "          <td>0</td><td>(10.644156951794127, 16.643483759875597, 29.273944695004634, 16.04176266710671, 21.531563803730048, ...</td>\n",
       "        </tr>\n",
       "        \n",
       "        <tr>\n",
       "          <td>1</td><td>(29.91506724241537, 10.88839834463892, 3.821517668811005, 14.724683700025748, 6.832899615038407, ......</td>\n",
       "        </tr>\n",
       "        \n",
       "        <tr>\n",
       "          <td>2</td><td>(21.141260129959022, 33.06721447486258, 27.83729995647609, 24.061611821472283, 35.78775901497098, .....</td>\n",
       "        </tr>\n",
       "        \n",
       "        <tr>\n",
       "          <td>3</td><td>(8.571675887508528, 3.5199258381651433, 31.729404038117515, 14.544267861064366, 22.631018579839328, ...</td>\n",
       "        </tr>\n",
       "        \n",
       "        <tr>\n",
       "          <td>4</td><td>(8.953772414653054, 26.475569768556177, 25.116681498338835, 9.085630959638461, 20.424202035488218, ....</td>\n",
       "        </tr>\n",
       "        \n",
       "        <tr>\n",
       "          <td>5</td><td>(8.369116415172462, 28.132878930064575, 8.055017317441052, 23.908830312023554, 31.69117081246262, .....</td>\n",
       "        </tr>\n",
       "        \n",
       "        <tr>\n",
       "          <td>6</td><td>(22.867449825664536, 33.601894668603435, 11.911316587148885, 18.71935107170569, 21.031201597476773, ...</td>\n",
       "        </tr>\n",
       "        \n",
       "        <tr>\n",
       "          <td>7</td><td>(15.223536191105616, 6.163722515115014, 6.904833507528981, 17.884321723405705, 7.179061327641296, .....</td>\n",
       "        </tr>\n",
       "        \n",
       "        <tr>\n",
       "          <td>8</td><td>(33.99937265820799, 13.911470492202136, 22.927970250656255, 14.777418019074693, 21.749153249524547, ...</td>\n",
       "        </tr>\n",
       "        <tr><td>...</td><td>...</td></tr>\n",
       "        <tr>\n",
       "          <td>9999</td><td>(16.642225997666703, 21.536258744821648, 21.011833142105466, 15.339222183063377, 38.88515706617051, ...</td>\n",
       "        </tr>\n",
       "        \n",
       "      </tbody>\n",
       "    </table>\n",
       "        "
      ],
      "text/plain": [
       "Index Result\n",
       "0     (10.644156951794127, 16.643483759875597, 29.273944695004634, 16.04176266710671, 21.531563803730048, ..., 36.59510006858167)\n",
       "1     (29.91506724241537, 10.88839834463892, 3.821517668811005, 14.724683700025748, 6.832899615038407, ..., 22.38737139985621)\n",
       "2     (21.141260129959022, 33.06721447486258, 27.83729995647609, 24.061611821472283, 35.78775901497098, ..., 31.307725073938943)\n",
       "3     (8.571675887508528, 3.5199258381651433, 31.729404038117515, 14.544267861064366, 22.631018579839328, ..., 17.93613451523356)\n",
       "4     (8.953772414653054, 26.475569768556177, 25.116681498338835, 9.085630959638461, 20.424202035488218, ..., 23.476377222512234)\n",
       "5     (8.369116415172462, 28.132878930064575, 8.055017317441052, 23.908830312023554, 31.69117081246262, ..., 18.926189304219243)\n",
       "6     (22.867449825664536, 33.601894668603435, 11.911316587148885, 18.71935107170569, 21.031201597476773, ..., 13.523023521953686)\n",
       "7     (15.223536191105616, 6.163722515115014, 6.904833507528981, 17.884321723405705, 7.179061327641296, ..., 7.618372682580032)\n",
       "8     (33.99937265820799, 13.911470492202136, 22.927970250656255, 14.777418019074693, 21.749153249524547, ..., 15.569421529620277)\n",
       "....  ..........................................................................................................................\n",
       "9999  (16.642225997666703, 21.536258744821648, 21.011833142105466, 15.339222183063377, 38.88515706617051, ..., 27.4076899181038)"
      ]
     },
     "execution_count": 12,
     "metadata": {},
     "output_type": "execute_result"
    }
   ],
   "source": [
    "# Define the probability space P as a vector of 25 normal random numbers:\n",
    "P = Normal(mean=20, sd=10) ** 25\n",
    "# Define RANDOMVECTOR as a vector of 25 random variables in the Probability space P \n",
    "RANDOMVECTOR = RV(P)\n",
    "# Simulate 10,000 random vectors with this distribution and save the in ymatrix: \n",
    "ymatrix=RANDOMVECTOR.sim(10000)\n",
    "\n",
    "ymatrix"
   ]
  },
  {
   "cell_type": "code",
   "execution_count": 13,
   "id": "f34fe8a3",
   "metadata": {},
   "outputs": [
    {
     "data": {
      "text/html": [
       "\n",
       "    <table>\n",
       "      <thead>\n",
       "        <th width=\"10%\">Index</th>\n",
       "        <th width=\"90%\">Result</th>\n",
       "      </thead>\n",
       "      <tbody>\n",
       "        \n",
       "        <tr>\n",
       "          <td>0</td><td>20.454823276422143</td>\n",
       "        </tr>\n",
       "        \n",
       "        <tr>\n",
       "          <td>1</td><td>20.849807138138736</td>\n",
       "        </tr>\n",
       "        \n",
       "        <tr>\n",
       "          <td>2</td><td>21.254142644107173</td>\n",
       "        </tr>\n",
       "        \n",
       "        <tr>\n",
       "          <td>3</td><td>21.567532138706127</td>\n",
       "        </tr>\n",
       "        \n",
       "        <tr>\n",
       "          <td>4</td><td>20.83882291343748</td>\n",
       "        </tr>\n",
       "        \n",
       "        <tr>\n",
       "          <td>5</td><td>20.29346706279991</td>\n",
       "        </tr>\n",
       "        \n",
       "        <tr>\n",
       "          <td>6</td><td>15.941069348337138</td>\n",
       "        </tr>\n",
       "        \n",
       "        <tr>\n",
       "          <td>7</td><td>19.023993506172545</td>\n",
       "        </tr>\n",
       "        \n",
       "        <tr>\n",
       "          <td>8</td><td>24.049066801327378</td>\n",
       "        </tr>\n",
       "        <tr><td>...</td><td>...</td></tr>\n",
       "        <tr>\n",
       "          <td>9999</td><td>19.329351668885838</td>\n",
       "        </tr>\n",
       "        \n",
       "      </tbody>\n",
       "    </table>\n",
       "        "
      ],
      "text/plain": [
       "Index Result\n",
       "0     20.454823276422143\n",
       "1     20.849807138138736\n",
       "2     21.254142644107173\n",
       "3     21.567532138706127\n",
       "4     20.83882291343748\n",
       "5     20.29346706279991\n",
       "6     15.941069348337138\n",
       "7     19.023993506172545\n",
       "8     24.049066801327378\n",
       "....  ..................\n",
       "9999  19.329351668885838"
      ]
     },
     "execution_count": 13,
     "metadata": {},
     "output_type": "execute_result"
    }
   ],
   "source": [
    "# The 2nd parameter is the mathematical operation applied to each row of the random vector\n",
    "# Simulate 10,000 means of each random vector of 25 uniform distributed numbers: \n",
    "ymean = RV(P,mean).sim(10000)\n",
    "ymean"
   ]
  },
  {
   "cell_type": "code",
   "execution_count": 14,
   "id": "75b7051e",
   "metadata": {},
   "outputs": [
    {
     "data": {
      "image/png": "[encoded data removed]",
      "text/plain": [
       "<Figure size 432x288 with 1 Axes>"
      ]
     },
     "metadata": {
      "needs_background": "light"
     },
     "output_type": "display_data"
    }
   ],
   "source": [
    "plt.clf()\n",
    "ymean.plot()\n",
    "plt.show()"
   ]
  },
  {
   "cell_type": "code",
   "execution_count": 15,
   "id": "5d653e22",
   "metadata": {},
   "outputs": [
    {
     "name": "stdout",
     "output_type": "stream",
     "text": [
      "20.00683713373216\n",
      "2.0118252951290962\n"
     ]
    }
   ],
   "source": [
    "print(ymean.mean())\n",
    "print(ymean.std())\n",
    "\"\"\"\n",
    "a)La media de ymean es similar a y, a cambio la desviasión se redujo por la cantidad de datos.\n",
    "b)A simple vista ambas histogramas se ve igual, pero la diferencia es que los datos se concentra más al centro en ymean (más densidad).\n",
    "\"\"\""
   ]
  },
  {
   "cell_type": "code",
   "execution_count": 23,
   "id": "32a1d790",
   "metadata": {},
   "outputs": [
    {
     "data": {
      "image/png": "[encoded data removed]",
      "text/plain": [
       "<Figure size 432x288 with 1 Axes>"
      ]
     },
     "metadata": {
      "needs_background": "light"
     },
     "output_type": "display_data"
    },
    {
     "data": {
      "text/plain": [
       "'\\nLa histograma de ymean tiene más datos concentrados en el medio, y a cambio de la histograma de y es una distribución normal que utiliza valores que se aproxime a la media y la desviación.\\n'"
      ]
     },
     "execution_count": 23,
     "metadata": {},
     "output_type": "execute_result"
    }
   ],
   "source": [
    "plt.clf()\n",
    "ymean.plot()\n",
    "y.plot()\n",
    "plt.show()\n",
    "\n",
    "\"\"\"\n",
    "La histograma de ymean tiene más datos concentrados en el medio, y a cambio de la histograma de y es una distribución normal que utiliza valores que se aproxime a la media y la desviación.\n",
    "\"\"\""
   ]
  },
  {
   "attachments": {
    "%E5%9B%BE%E7%89%87.png": {
     "image/png": "[encoded data removed]"
    }
   },
   "cell_type": "markdown",
   "id": "6b65e6a6",
   "metadata": {},
   "source": [
    "## Definición de CLT\n",
    "Para cualquier variable aleatoria con cualquier distribución de probabilidad, cuando se toma las muestras de datos, la media que se presenta estos muestras trendrá las siguientes caracteristicas:\n",
    "- La distribución de las medias se acerca a la distribución normal cuando se toma a muchos datos.\n",
    "- La desviación estándar de las medias muestrales siempre será menor que la desviasión estándar de los individuales, siendo así se reducirá en:\n",
    "![%E5%9B%BE%E7%89%87.png](attachment:%E5%9B%BE%E7%89%87.png)\n",
    "\n",
    "Sin importar la distribución de variables aleatorios, si tomamos un grupo de esta variable podemos tener:\n",
    "- La media de estos grupos se acerca mucho a la distribución noraml\n",
    "- La desviación estándar de la media se reduce depende del número de datos de cada grupo."
   ]
  },
  {
   "cell_type": "markdown",
   "id": "6dfa6e21",
   "metadata": {},
   "source": [
    "## Prueba de hipótesis\n",
    "El objetivo principal de las pruebas de hipótesis es mostrar una evidencia sólida con hechos para comprobar una teoría que creemo, lo cual lo podemos llamar Hipótesis Alternativa.\n",
    "\n",
    "La prueba de hipótesis se empiza con el paso de establecer la hipótesis nula y la hipótesis alternativa:\n",
    "- H0: Hipótesis nula. Es cuando la hipótesis aún no se comprueba, pero cree que es Falso.\n",
    "- Ha: Hipótesis alternativa. Es cuando la hipótesis aún no se comprueba, pero cree que es Verdadero"
   ]
  },
  {
   "cell_type": "code",
   "execution_count": 25,
   "id": "93999c76",
   "metadata": {},
   "outputs": [
    {
     "data": {
      "text/html": [
       "<div>\n",
       "<style scoped>\n",
       "    .dataframe tbody tr th:only-of-type {\n",
       "        vertical-align: middle;\n",
       "    }\n",
       "\n",
       "    .dataframe tbody tr th {\n",
       "        vertical-align: top;\n",
       "    }\n",
       "\n",
       "    .dataframe thead th {\n",
       "        text-align: right;\n",
       "    }\n",
       "</style>\n",
       "<table border=\"1\" class=\"dataframe\">\n",
       "  <thead>\n",
       "    <tr style=\"text-align: right;\">\n",
       "      <th></th>\n",
       "      <th>High</th>\n",
       "      <th>Low</th>\n",
       "      <th>Open</th>\n",
       "      <th>Close</th>\n",
       "      <th>Volume</th>\n",
       "      <th>Adj Close</th>\n",
       "    </tr>\n",
       "    <tr>\n",
       "      <th>Date</th>\n",
       "      <th></th>\n",
       "      <th></th>\n",
       "      <th></th>\n",
       "      <th></th>\n",
       "      <th></th>\n",
       "      <th></th>\n",
       "    </tr>\n",
       "  </thead>\n",
       "  <tbody>\n",
       "    <tr>\n",
       "      <th>2017-07-03</th>\n",
       "      <td>69.599998</td>\n",
       "      <td>68.019997</td>\n",
       "      <td>69.330002</td>\n",
       "      <td>68.169998</td>\n",
       "      <td>16165500.0</td>\n",
       "      <td>63.851688</td>\n",
       "    </tr>\n",
       "    <tr>\n",
       "      <th>2017-07-05</th>\n",
       "      <td>69.440002</td>\n",
       "      <td>68.220001</td>\n",
       "      <td>68.260002</td>\n",
       "      <td>69.080002</td>\n",
       "      <td>21176300.0</td>\n",
       "      <td>64.704048</td>\n",
       "    </tr>\n",
       "    <tr>\n",
       "      <th>2017-07-06</th>\n",
       "      <td>68.779999</td>\n",
       "      <td>68.120003</td>\n",
       "      <td>68.269997</td>\n",
       "      <td>68.570000</td>\n",
       "      <td>21117600.0</td>\n",
       "      <td>64.226349</td>\n",
       "    </tr>\n",
       "    <tr>\n",
       "      <th>2017-07-07</th>\n",
       "      <td>69.839996</td>\n",
       "      <td>68.699997</td>\n",
       "      <td>68.699997</td>\n",
       "      <td>69.459999</td>\n",
       "      <td>16878300.0</td>\n",
       "      <td>65.059967</td>\n",
       "    </tr>\n",
       "    <tr>\n",
       "      <th>2017-07-10</th>\n",
       "      <td>70.250000</td>\n",
       "      <td>69.199997</td>\n",
       "      <td>69.459999</td>\n",
       "      <td>69.980003</td>\n",
       "      <td>15014500.0</td>\n",
       "      <td>65.547043</td>\n",
       "    </tr>\n",
       "    <tr>\n",
       "      <th>...</th>\n",
       "      <td>...</td>\n",
       "      <td>...</td>\n",
       "      <td>...</td>\n",
       "      <td>...</td>\n",
       "      <td>...</td>\n",
       "      <td>...</td>\n",
       "    </tr>\n",
       "    <tr>\n",
       "      <th>2022-08-09</th>\n",
       "      <td>283.079987</td>\n",
       "      <td>277.609985</td>\n",
       "      <td>279.640015</td>\n",
       "      <td>282.299988</td>\n",
       "      <td>23405200.0</td>\n",
       "      <td>282.299988</td>\n",
       "    </tr>\n",
       "    <tr>\n",
       "      <th>2022-08-10</th>\n",
       "      <td>289.809998</td>\n",
       "      <td>286.940002</td>\n",
       "      <td>288.170013</td>\n",
       "      <td>289.160004</td>\n",
       "      <td>24687800.0</td>\n",
       "      <td>289.160004</td>\n",
       "    </tr>\n",
       "    <tr>\n",
       "      <th>2022-08-11</th>\n",
       "      <td>291.209991</td>\n",
       "      <td>286.510010</td>\n",
       "      <td>290.850006</td>\n",
       "      <td>287.019989</td>\n",
       "      <td>20065900.0</td>\n",
       "      <td>287.019989</td>\n",
       "    </tr>\n",
       "    <tr>\n",
       "      <th>2022-08-12</th>\n",
       "      <td>291.910004</td>\n",
       "      <td>286.940002</td>\n",
       "      <td>288.480011</td>\n",
       "      <td>291.910004</td>\n",
       "      <td>22601900.0</td>\n",
       "      <td>291.910004</td>\n",
       "    </tr>\n",
       "    <tr>\n",
       "      <th>2022-08-15</th>\n",
       "      <td>294.179993</td>\n",
       "      <td>290.109985</td>\n",
       "      <td>291.000000</td>\n",
       "      <td>293.470001</td>\n",
       "      <td>18072100.0</td>\n",
       "      <td>293.470001</td>\n",
       "    </tr>\n",
       "  </tbody>\n",
       "</table>\n",
       "<p>1289 rows × 6 columns</p>\n",
       "</div>"
      ],
      "text/plain": [
       "                  High         Low        Open       Close      Volume  \\\n",
       "Date                                                                     \n",
       "2017-07-03   69.599998   68.019997   69.330002   68.169998  16165500.0   \n",
       "2017-07-05   69.440002   68.220001   68.260002   69.080002  21176300.0   \n",
       "2017-07-06   68.779999   68.120003   68.269997   68.570000  21117600.0   \n",
       "2017-07-07   69.839996   68.699997   68.699997   69.459999  16878300.0   \n",
       "2017-07-10   70.250000   69.199997   69.459999   69.980003  15014500.0   \n",
       "...                ...         ...         ...         ...         ...   \n",
       "2022-08-09  283.079987  277.609985  279.640015  282.299988  23405200.0   \n",
       "2022-08-10  289.809998  286.940002  288.170013  289.160004  24687800.0   \n",
       "2022-08-11  291.209991  286.510010  290.850006  287.019989  20065900.0   \n",
       "2022-08-12  291.910004  286.940002  288.480011  291.910004  22601900.0   \n",
       "2022-08-15  294.179993  290.109985  291.000000  293.470001  18072100.0   \n",
       "\n",
       "             Adj Close  \n",
       "Date                    \n",
       "2017-07-03   63.851688  \n",
       "2017-07-05   64.704048  \n",
       "2017-07-06   64.226349  \n",
       "2017-07-07   65.059967  \n",
       "2017-07-10   65.547043  \n",
       "...                ...  \n",
       "2022-08-09  282.299988  \n",
       "2022-08-10  289.160004  \n",
       "2022-08-11  287.019989  \n",
       "2022-08-12  291.910004  \n",
       "2022-08-15  293.470001  \n",
       "\n",
       "[1289 rows x 6 columns]"
      ]
     },
     "execution_count": 25,
     "metadata": {},
     "output_type": "execute_result"
    }
   ],
   "source": [
    "import pandas as pd\n",
    "import pandas_datareader as pdr\n",
    "import matplotlib\n",
    "import matplotlib.pyplot as plt\n",
    "MSFT = pdr.get_data_yahoo(\"MSFT\", start = \"2017-07-01\", interval = \"d\")\n",
    "MSFT"
   ]
  },
  {
   "cell_type": "code",
   "execution_count": 31,
   "id": "d64cea82",
   "metadata": {},
   "outputs": [
    {
     "data": {
      "image/png": "[encoded data removed]",
      "text/plain": [
       "<Figure size 432x288 with 1 Axes>"
      ]
     },
     "metadata": {
      "needs_background": "light"
     },
     "output_type": "display_data"
    }
   ],
   "source": [
    "\"\"\"\n",
    "H0: la media cc es menor o igual que 0 (<=0)\n",
    "Ha: la media cc es mayor que 0 (>0)\n",
    "\"\"\"\n",
    "MSFT[\"r\"] = np.log(MSFT[\"Adj Close\"]) - np.log(MSFT[\"Adj Close\"].shift(1))\n",
    "\n",
    "plt.hist(MSFT[\"r\"], bins=36)\n",
    "plt.show()"
   ]
  },
  {
   "cell_type": "code",
   "execution_count": 34,
   "id": "e1bbe2ff",
   "metadata": {},
   "outputs": [
    {
     "name": "stdout",
     "output_type": "stream",
     "text": [
      "Media: 0.001184171116795174\n",
      "std: 0.001184171116795174\n"
     ]
    }
   ],
   "source": [
    "mean = MSFT[\"r\"].mean()\n",
    "print(\"Media:\", mean)\n",
    "std = MSFT[\"r\"].std()\n",
    "print(\"std:\", mean)"
   ]
  },
  {
   "cell_type": "code",
   "execution_count": 35,
   "id": "31af4088",
   "metadata": {},
   "outputs": [
    {
     "data": {
      "text/plain": [
       "0.000516786841443916"
      ]
     },
     "execution_count": 35,
     "metadata": {},
     "output_type": "execute_result"
    }
   ],
   "source": [
    "std_grouped = std / math.sqrt(MSFT[\"r\"].count())\n",
    "std_grouped"
   ]
  },
  {
   "cell_type": "code",
   "execution_count": 36,
   "id": "7be1bcb9",
   "metadata": {},
   "outputs": [
    {
     "data": {
      "text/plain": [
       "2.2914111231752123"
      ]
     },
     "execution_count": 36,
     "metadata": {},
     "output_type": "execute_result"
    }
   ],
   "source": [
    "#t statistic\n",
    "t = (mean - 0) / std_grouped\n",
    "t"
   ]
  },
  {
   "cell_type": "markdown",
   "id": "f53caccf",
   "metadata": {},
   "source": [
    "El valor de la t es 2.29, lo cual significa que es más de 95% de probabilidad según la distribución normal."
   ]
  }
 ],
 "metadata": {
  "kernelspec": {
   "display_name": "Python 3 (ipykernel)",
   "language": "python",
   "name": "python3"
  },
  "language_info": {
   "codemirror_mode": {
    "name": "ipython",
    "version": 3
   },
   "file_extension": ".py",
   "mimetype": "text/x-python",
   "name": "python",
   "nbconvert_exporter": "python",
   "pygments_lexer": "ipython3",
   "version": "3.10.6"
  }
 },
 "nbformat": 4,
 "nbformat_minor": 5
}
