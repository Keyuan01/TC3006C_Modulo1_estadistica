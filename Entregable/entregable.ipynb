{
 "cells": [
  {
   "cell_type": "markdown",
   "id": "eb10afe4",
   "metadata": {},
   "source": [
    "# Momento de Retroalimentación: Módulo 1 Construcción de un modelo estadístico base (Portafolio Implementación) "
   ]
  },
  {
   "cell_type": "code",
   "execution_count": 25,
   "id": "70213edf",
   "metadata": {},
   "outputs": [],
   "source": [
    "# Importar las librerias necesarias\n",
    "\n",
    "import pandas as pd\n",
    "import numpy as np\n",
    "import matplotlib\n",
    "import matplotlib.pyplot as plt\n",
    "from symbulate import *"
   ]
  },
  {
   "cell_type": "code",
   "execution_count": 26,
   "id": "5e04daa2",
   "metadata": {},
   "outputs": [
    {
     "data": {
      "text/html": [
       "<div>\n",
       "<style scoped>\n",
       "    .dataframe tbody tr th:only-of-type {\n",
       "        vertical-align: middle;\n",
       "    }\n",
       "\n",
       "    .dataframe tbody tr th {\n",
       "        vertical-align: top;\n",
       "    }\n",
       "\n",
       "    .dataframe thead th {\n",
       "        text-align: right;\n",
       "    }\n",
       "</style>\n",
       "<table border=\"1\" class=\"dataframe\">\n",
       "  <thead>\n",
       "    <tr style=\"text-align: right;\">\n",
       "      <th></th>\n",
       "      <th>firm</th>\n",
       "      <th>q</th>\n",
       "      <th>revenue</th>\n",
       "      <th>cogs</th>\n",
       "      <th>sgae</th>\n",
       "      <th>otheropexp</th>\n",
       "      <th>extraincome</th>\n",
       "      <th>finexp</th>\n",
       "      <th>incometax</th>\n",
       "      <th>totalassets</th>\n",
       "      <th>totalliabilities</th>\n",
       "      <th>shortdebt</th>\n",
       "      <th>longdebt</th>\n",
       "      <th>stockholderequity</th>\n",
       "      <th>adjprice</th>\n",
       "      <th>originalprice</th>\n",
       "      <th>sharesoutstanding</th>\n",
       "      <th>fiscalmonth</th>\n",
       "      <th>year</th>\n",
       "      <th>cto</th>\n",
       "    </tr>\n",
       "  </thead>\n",
       "  <tbody>\n",
       "    <tr>\n",
       "      <th>0</th>\n",
       "      <td>A</td>\n",
       "      <td>2000q1</td>\n",
       "      <td>NaN</td>\n",
       "      <td>NaN</td>\n",
       "      <td>NaN</td>\n",
       "      <td>NaN</td>\n",
       "      <td>NaN</td>\n",
       "      <td>NaN</td>\n",
       "      <td>NaN</td>\n",
       "      <td>NaN</td>\n",
       "      <td>NaN</td>\n",
       "      <td>NaN</td>\n",
       "      <td>NaN</td>\n",
       "      <td>NaN</td>\n",
       "      <td>63.761670</td>\n",
       "      <td>104.0000</td>\n",
       "      <td>452000.000</td>\n",
       "      <td>NaN</td>\n",
       "      <td>2000</td>\n",
       "      <td>1</td>\n",
       "    </tr>\n",
       "    <tr>\n",
       "      <th>1</th>\n",
       "      <td>A</td>\n",
       "      <td>2000q2</td>\n",
       "      <td>2485000.0</td>\n",
       "      <td>1261000.0</td>\n",
       "      <td>1010000.0</td>\n",
       "      <td>0.0</td>\n",
       "      <td>42000.0</td>\n",
       "      <td>0.0</td>\n",
       "      <td>90000.0</td>\n",
       "      <td>7321000.0</td>\n",
       "      <td>2679000.0</td>\n",
       "      <td>512000.0</td>\n",
       "      <td>0.0</td>\n",
       "      <td>4642000.0</td>\n",
       "      <td>45.215607</td>\n",
       "      <td>73.7500</td>\n",
       "      <td>452271.967</td>\n",
       "      <td>6.0</td>\n",
       "      <td>2000</td>\n",
       "      <td>2</td>\n",
       "    </tr>\n",
       "    <tr>\n",
       "      <th>2</th>\n",
       "      <td>A</td>\n",
       "      <td>2000q3</td>\n",
       "      <td>2670000.0</td>\n",
       "      <td>1369000.0</td>\n",
       "      <td>1091000.0</td>\n",
       "      <td>0.0</td>\n",
       "      <td>28000.0</td>\n",
       "      <td>0.0</td>\n",
       "      <td>83000.0</td>\n",
       "      <td>7827000.0</td>\n",
       "      <td>2925000.0</td>\n",
       "      <td>528000.0</td>\n",
       "      <td>0.0</td>\n",
       "      <td>4902000.0</td>\n",
       "      <td>30.003238</td>\n",
       "      <td>48.9375</td>\n",
       "      <td>453014.579</td>\n",
       "      <td>9.0</td>\n",
       "      <td>2000</td>\n",
       "      <td>3</td>\n",
       "    </tr>\n",
       "    <tr>\n",
       "      <th>3</th>\n",
       "      <td>A</td>\n",
       "      <td>2000q4</td>\n",
       "      <td>3372000.0</td>\n",
       "      <td>1732000.0</td>\n",
       "      <td>1182000.0</td>\n",
       "      <td>0.0</td>\n",
       "      <td>10000.0</td>\n",
       "      <td>0.0</td>\n",
       "      <td>163000.0</td>\n",
       "      <td>8425000.0</td>\n",
       "      <td>3160000.0</td>\n",
       "      <td>830000.0</td>\n",
       "      <td>0.0</td>\n",
       "      <td>5265000.0</td>\n",
       "      <td>33.566841</td>\n",
       "      <td>54.7500</td>\n",
       "      <td>456366.381</td>\n",
       "      <td>12.0</td>\n",
       "      <td>2000</td>\n",
       "      <td>4</td>\n",
       "    </tr>\n",
       "    <tr>\n",
       "      <th>4</th>\n",
       "      <td>A</td>\n",
       "      <td>2001q1</td>\n",
       "      <td>2841000.0</td>\n",
       "      <td>1449000.0</td>\n",
       "      <td>1113000.0</td>\n",
       "      <td>0.0</td>\n",
       "      <td>-6000.0</td>\n",
       "      <td>0.0</td>\n",
       "      <td>119000.0</td>\n",
       "      <td>9208000.0</td>\n",
       "      <td>3667000.0</td>\n",
       "      <td>556000.0</td>\n",
       "      <td>0.0</td>\n",
       "      <td>5541000.0</td>\n",
       "      <td>18.840347</td>\n",
       "      <td>30.7300</td>\n",
       "      <td>456769.737</td>\n",
       "      <td>3.0</td>\n",
       "      <td>2001</td>\n",
       "      <td>1</td>\n",
       "    </tr>\n",
       "  </tbody>\n",
       "</table>\n",
       "</div>"
      ],
      "text/plain": [
       "  firm       q    revenue       cogs       sgae  otheropexp  extraincome  \\\n",
       "0    A  2000q1        NaN        NaN        NaN         NaN          NaN   \n",
       "1    A  2000q2  2485000.0  1261000.0  1010000.0         0.0      42000.0   \n",
       "2    A  2000q3  2670000.0  1369000.0  1091000.0         0.0      28000.0   \n",
       "3    A  2000q4  3372000.0  1732000.0  1182000.0         0.0      10000.0   \n",
       "4    A  2001q1  2841000.0  1449000.0  1113000.0         0.0      -6000.0   \n",
       "\n",
       "   finexp  incometax  totalassets  totalliabilities  shortdebt  longdebt  \\\n",
       "0     NaN        NaN          NaN               NaN        NaN       NaN   \n",
       "1     0.0    90000.0    7321000.0         2679000.0   512000.0       0.0   \n",
       "2     0.0    83000.0    7827000.0         2925000.0   528000.0       0.0   \n",
       "3     0.0   163000.0    8425000.0         3160000.0   830000.0       0.0   \n",
       "4     0.0   119000.0    9208000.0         3667000.0   556000.0       0.0   \n",
       "\n",
       "   stockholderequity   adjprice  originalprice  sharesoutstanding  \\\n",
       "0                NaN  63.761670       104.0000         452000.000   \n",
       "1          4642000.0  45.215607        73.7500         452271.967   \n",
       "2          4902000.0  30.003238        48.9375         453014.579   \n",
       "3          5265000.0  33.566841        54.7500         456366.381   \n",
       "4          5541000.0  18.840347        30.7300         456769.737   \n",
       "\n",
       "   fiscalmonth  year  cto  \n",
       "0          NaN  2000    1  \n",
       "1          6.0  2000    2  \n",
       "2          9.0  2000    3  \n",
       "3         12.0  2000    4  \n",
       "4          3.0  2001    1  "
      ]
     },
     "execution_count": 26,
     "metadata": {},
     "output_type": "execute_result"
    }
   ],
   "source": [
    "# Importar el archivo\n",
    "\n",
    "df = pd.read_csv(\"us2022q2a.csv\")\n",
    "df.head()"
   ]
  },
  {
   "cell_type": "code",
   "execution_count": 27,
   "id": "43923df0",
   "metadata": {},
   "outputs": [
    {
     "data": {
      "image/png": "[encoded data removed]",
      "text/plain": [
       "<Figure size 432x288 with 1 Axes>"
      ]
     },
     "metadata": {
      "needs_background": "light"
     },
     "output_type": "display_data"
    }
   ],
   "source": [
    "# Retorno continuo por año\n",
    "\n",
    "df[\"r\"] = np.log(df['adjprice']) - np.log(df['adjprice'].shift(4))\n",
    "plt.hist(df[\"r\"], bins = 50)\n",
    "plt.show()"
   ]
  },
  {
   "cell_type": "code",
   "execution_count": 28,
   "id": "5c7903a2",
   "metadata": {},
   "outputs": [
    {
     "name": "stdout",
     "output_type": "stream",
     "text": [
      "Media:  0.025035948447884083\n",
      "Desviación estándar:  0.5851692274438309\n"
     ]
    }
   ],
   "source": [
    "# Media y desviación estándar\n",
    "mean = df[\"r\"].mean()\n",
    "print(\"Media: \", mean)\n",
    "std = df[\"r\"].std()\n",
    "print(\"Desviación estándar: \", std)"
   ]
  },
  {
   "cell_type": "code",
   "execution_count": 29,
   "id": "869a2bc1",
   "metadata": {},
   "outputs": [
    {
     "data": {
      "text/plain": [
       "0.0014668060768296722"
      ]
     },
     "execution_count": 29,
     "metadata": {},
     "output_type": "execute_result"
    }
   ],
   "source": [
    "std_grouped = std / math.sqrt(df[\"adjprice\"].count())\n",
    "std_grouped"
   ]
  },
  {
   "cell_type": "code",
   "execution_count": 30,
   "id": "5d46bca7",
   "metadata": {},
   "outputs": [
    {
     "data": {
      "text/plain": [
       "17.06834246419017"
      ]
     },
     "execution_count": 30,
     "metadata": {},
     "output_type": "execute_result"
    }
   ],
   "source": [
    "#t statistic\n",
    "t = (mean - 0.0) / std_grouped\n",
    "t"
   ]
  },
  {
   "cell_type": "code",
   "execution_count": null,
   "id": "f3822c01",
   "metadata": {},
   "outputs": [],
   "source": []
  },
  {
   "cell_type": "code",
   "execution_count": null,
   "id": "c4925af8",
   "metadata": {},
   "outputs": [],
   "source": []
  }
 ],
 "metadata": {
  "kernelspec": {
   "display_name": "Python 3 (ipykernel)",
   "language": "python",
   "name": "python3"
  },
  "language_info": {
   "codemirror_mode": {
    "name": "ipython",
    "version": 3
   },
   "file_extension": ".py",
   "mimetype": "text/x-python",
   "name": "python",
   "nbconvert_exporter": "python",
   "pygments_lexer": "ipython3",
   "version": "3.10.6"
  }
 },
 "nbformat": 4,
 "nbformat_minor": 5
}
