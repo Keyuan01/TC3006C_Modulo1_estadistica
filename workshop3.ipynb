{
 "cells": [
  {
   "cell_type": "markdown",
   "id": "91c2afb3",
   "metadata": {},
   "source": [
    "# Prueba de hipótesis de dos grupos de medias"
   ]
  },
  {
   "cell_type": "code",
   "execution_count": 40,
   "id": "82db7795",
   "metadata": {},
   "outputs": [],
   "source": [
    "from symbulate import *\n",
    "import numpy as np\n",
    "import pandas as pd\n",
    "import pandas_datareader as pdr\n",
    "import matplotlib\n",
    "import matplotlib.pyplot as plt"
   ]
  },
  {
   "attachments": {
    "%E5%9B%BE%E7%89%87.png": {
     "image/png": "[encoded data removed]"
    }
   },
   "cell_type": "markdown",
   "id": "6ae395a8",
   "metadata": {},
   "source": [
    "![%E5%9B%BE%E7%89%87.png](attachment:%E5%9B%BE%E7%89%87.png)"
   ]
  },
  {
   "cell_type": "code",
   "execution_count": 30,
   "id": "1adf842c",
   "metadata": {},
   "outputs": [
    {
     "data": {
      "text/html": [
       "<div>\n",
       "<style scoped>\n",
       "    .dataframe tbody tr th:only-of-type {\n",
       "        vertical-align: middle;\n",
       "    }\n",
       "\n",
       "    .dataframe tbody tr th {\n",
       "        vertical-align: top;\n",
       "    }\n",
       "\n",
       "    .dataframe thead th {\n",
       "        text-align: right;\n",
       "    }\n",
       "</style>\n",
       "<table border=\"1\" class=\"dataframe\">\n",
       "  <thead>\n",
       "    <tr style=\"text-align: right;\">\n",
       "      <th></th>\n",
       "      <th>High</th>\n",
       "      <th>Low</th>\n",
       "      <th>Open</th>\n",
       "      <th>Close</th>\n",
       "      <th>Volume</th>\n",
       "      <th>Adj Close</th>\n",
       "    </tr>\n",
       "    <tr>\n",
       "      <th>Date</th>\n",
       "      <th></th>\n",
       "      <th></th>\n",
       "      <th></th>\n",
       "      <th></th>\n",
       "      <th></th>\n",
       "      <th></th>\n",
       "    </tr>\n",
       "  </thead>\n",
       "  <tbody>\n",
       "    <tr>\n",
       "      <th>2017-01-03</th>\n",
       "      <td>41.810001</td>\n",
       "      <td>41.279999</td>\n",
       "      <td>41.500000</td>\n",
       "      <td>41.799999</td>\n",
       "      <td>14711000.0</td>\n",
       "      <td>34.991798</td>\n",
       "    </tr>\n",
       "    <tr>\n",
       "      <th>2017-01-04</th>\n",
       "      <td>41.970001</td>\n",
       "      <td>41.590000</td>\n",
       "      <td>41.880001</td>\n",
       "      <td>41.650002</td>\n",
       "      <td>9959400.0</td>\n",
       "      <td>34.866215</td>\n",
       "    </tr>\n",
       "    <tr>\n",
       "      <th>2017-01-05</th>\n",
       "      <td>41.860001</td>\n",
       "      <td>41.529999</td>\n",
       "      <td>41.660000</td>\n",
       "      <td>41.750000</td>\n",
       "      <td>8968300.0</td>\n",
       "      <td>34.949936</td>\n",
       "    </tr>\n",
       "    <tr>\n",
       "      <th>2017-01-06</th>\n",
       "      <td>41.810001</td>\n",
       "      <td>41.540001</td>\n",
       "      <td>41.700001</td>\n",
       "      <td>41.740002</td>\n",
       "      <td>10246600.0</td>\n",
       "      <td>34.941563</td>\n",
       "    </tr>\n",
       "    <tr>\n",
       "      <th>2017-01-09</th>\n",
       "      <td>41.580002</td>\n",
       "      <td>41.209999</td>\n",
       "      <td>41.230000</td>\n",
       "      <td>41.320000</td>\n",
       "      <td>14822500.0</td>\n",
       "      <td>34.589973</td>\n",
       "    </tr>\n",
       "    <tr>\n",
       "      <th>...</th>\n",
       "      <td>...</td>\n",
       "      <td>...</td>\n",
       "      <td>...</td>\n",
       "      <td>...</td>\n",
       "      <td>...</td>\n",
       "      <td>...</td>\n",
       "    </tr>\n",
       "    <tr>\n",
       "      <th>2022-08-10</th>\n",
       "      <td>63.790001</td>\n",
       "      <td>63.099998</td>\n",
       "      <td>63.630001</td>\n",
       "      <td>63.650002</td>\n",
       "      <td>8857300.0</td>\n",
       "      <td>63.650002</td>\n",
       "    </tr>\n",
       "    <tr>\n",
       "      <th>2022-08-11</th>\n",
       "      <td>63.990002</td>\n",
       "      <td>63.080002</td>\n",
       "      <td>63.689999</td>\n",
       "      <td>63.220001</td>\n",
       "      <td>8507800.0</td>\n",
       "      <td>63.220001</td>\n",
       "    </tr>\n",
       "    <tr>\n",
       "      <th>2022-08-12</th>\n",
       "      <td>63.759998</td>\n",
       "      <td>63.090000</td>\n",
       "      <td>63.430000</td>\n",
       "      <td>63.700001</td>\n",
       "      <td>9483700.0</td>\n",
       "      <td>63.700001</td>\n",
       "    </tr>\n",
       "    <tr>\n",
       "      <th>2022-08-15</th>\n",
       "      <td>64.690002</td>\n",
       "      <td>63.570000</td>\n",
       "      <td>63.639999</td>\n",
       "      <td>64.500000</td>\n",
       "      <td>9863300.0</td>\n",
       "      <td>64.500000</td>\n",
       "    </tr>\n",
       "    <tr>\n",
       "      <th>2022-08-16</th>\n",
       "      <td>65.230003</td>\n",
       "      <td>64.330002</td>\n",
       "      <td>64.570000</td>\n",
       "      <td>65.029999</td>\n",
       "      <td>9569100.0</td>\n",
       "      <td>65.029999</td>\n",
       "    </tr>\n",
       "  </tbody>\n",
       "</table>\n",
       "<p>1415 rows × 6 columns</p>\n",
       "</div>"
      ],
      "text/plain": [
       "                 High        Low       Open      Close      Volume  Adj Close\n",
       "Date                                                                         \n",
       "2017-01-03  41.810001  41.279999  41.500000  41.799999  14711000.0  34.991798\n",
       "2017-01-04  41.970001  41.590000  41.880001  41.650002   9959400.0  34.866215\n",
       "2017-01-05  41.860001  41.529999  41.660000  41.750000   8968300.0  34.949936\n",
       "2017-01-06  41.810001  41.540001  41.700001  41.740002  10246600.0  34.941563\n",
       "2017-01-09  41.580002  41.209999  41.230000  41.320000  14822500.0  34.589973\n",
       "...               ...        ...        ...        ...         ...        ...\n",
       "2022-08-10  63.790001  63.099998  63.630001  63.650002   8857300.0  63.650002\n",
       "2022-08-11  63.990002  63.080002  63.689999  63.220001   8507800.0  63.220001\n",
       "2022-08-12  63.759998  63.090000  63.430000  63.700001   9483700.0  63.700001\n",
       "2022-08-15  64.690002  63.570000  63.639999  64.500000   9863300.0  64.500000\n",
       "2022-08-16  65.230003  64.330002  64.570000  65.029999   9569100.0  65.029999\n",
       "\n",
       "[1415 rows x 6 columns]"
      ]
     },
     "execution_count": 30,
     "metadata": {},
     "output_type": "execute_result"
    }
   ],
   "source": [
    "coca = pdr.get_data_yahoo('KO', start=\"01/01/2017\", interval=\"d\")\n",
    "coca"
   ]
  },
  {
   "cell_type": "code",
   "execution_count": 31,
   "id": "aab3b671",
   "metadata": {},
   "outputs": [
    {
     "data": {
      "text/html": [
       "<div>\n",
       "<style scoped>\n",
       "    .dataframe tbody tr th:only-of-type {\n",
       "        vertical-align: middle;\n",
       "    }\n",
       "\n",
       "    .dataframe tbody tr th {\n",
       "        vertical-align: top;\n",
       "    }\n",
       "\n",
       "    .dataframe thead th {\n",
       "        text-align: right;\n",
       "    }\n",
       "</style>\n",
       "<table border=\"1\" class=\"dataframe\">\n",
       "  <thead>\n",
       "    <tr style=\"text-align: right;\">\n",
       "      <th></th>\n",
       "      <th>High</th>\n",
       "      <th>Low</th>\n",
       "      <th>Open</th>\n",
       "      <th>Close</th>\n",
       "      <th>Volume</th>\n",
       "      <th>Adj Close</th>\n",
       "    </tr>\n",
       "    <tr>\n",
       "      <th>Date</th>\n",
       "      <th></th>\n",
       "      <th></th>\n",
       "      <th></th>\n",
       "      <th></th>\n",
       "      <th></th>\n",
       "      <th></th>\n",
       "    </tr>\n",
       "  </thead>\n",
       "  <tbody>\n",
       "    <tr>\n",
       "      <th>2017-01-03</th>\n",
       "      <td>105.089996</td>\n",
       "      <td>104.209999</td>\n",
       "      <td>104.940002</td>\n",
       "      <td>104.650002</td>\n",
       "      <td>3741200.0</td>\n",
       "      <td>89.133141</td>\n",
       "    </tr>\n",
       "    <tr>\n",
       "      <th>2017-01-04</th>\n",
       "      <td>105.629997</td>\n",
       "      <td>104.790001</td>\n",
       "      <td>105.110001</td>\n",
       "      <td>104.849998</td>\n",
       "      <td>3029700.0</td>\n",
       "      <td>89.303497</td>\n",
       "    </tr>\n",
       "    <tr>\n",
       "      <th>2017-01-05</th>\n",
       "      <td>105.120003</td>\n",
       "      <td>104.190002</td>\n",
       "      <td>104.519997</td>\n",
       "      <td>104.709999</td>\n",
       "      <td>5087200.0</td>\n",
       "      <td>89.184280</td>\n",
       "    </tr>\n",
       "    <tr>\n",
       "      <th>2017-01-06</th>\n",
       "      <td>105.160004</td>\n",
       "      <td>104.120003</td>\n",
       "      <td>104.980003</td>\n",
       "      <td>104.559998</td>\n",
       "      <td>4109700.0</td>\n",
       "      <td>89.056511</td>\n",
       "    </tr>\n",
       "    <tr>\n",
       "      <th>2017-01-09</th>\n",
       "      <td>104.260002</td>\n",
       "      <td>103.250000</td>\n",
       "      <td>104.160004</td>\n",
       "      <td>103.459999</td>\n",
       "      <td>5603500.0</td>\n",
       "      <td>88.119598</td>\n",
       "    </tr>\n",
       "    <tr>\n",
       "      <th>...</th>\n",
       "      <td>...</td>\n",
       "      <td>...</td>\n",
       "      <td>...</td>\n",
       "      <td>...</td>\n",
       "      <td>...</td>\n",
       "      <td>...</td>\n",
       "    </tr>\n",
       "    <tr>\n",
       "      <th>2022-08-10</th>\n",
       "      <td>176.429993</td>\n",
       "      <td>174.720001</td>\n",
       "      <td>175.809998</td>\n",
       "      <td>175.940002</td>\n",
       "      <td>4041100.0</td>\n",
       "      <td>175.940002</td>\n",
       "    </tr>\n",
       "    <tr>\n",
       "      <th>2022-08-11</th>\n",
       "      <td>177.119995</td>\n",
       "      <td>174.669998</td>\n",
       "      <td>176.360001</td>\n",
       "      <td>175.039993</td>\n",
       "      <td>2743800.0</td>\n",
       "      <td>175.039993</td>\n",
       "    </tr>\n",
       "    <tr>\n",
       "      <th>2022-08-12</th>\n",
       "      <td>177.380005</td>\n",
       "      <td>175.380005</td>\n",
       "      <td>175.929993</td>\n",
       "      <td>177.330002</td>\n",
       "      <td>3756200.0</td>\n",
       "      <td>177.330002</td>\n",
       "    </tr>\n",
       "    <tr>\n",
       "      <th>2022-08-15</th>\n",
       "      <td>179.360001</td>\n",
       "      <td>176.800003</td>\n",
       "      <td>177.770004</td>\n",
       "      <td>179.279999</td>\n",
       "      <td>3043100.0</td>\n",
       "      <td>179.279999</td>\n",
       "    </tr>\n",
       "    <tr>\n",
       "      <th>2022-08-16</th>\n",
       "      <td>180.699997</td>\n",
       "      <td>178.639999</td>\n",
       "      <td>179.779999</td>\n",
       "      <td>180.320007</td>\n",
       "      <td>3395700.0</td>\n",
       "      <td>180.320007</td>\n",
       "    </tr>\n",
       "  </tbody>\n",
       "</table>\n",
       "<p>1415 rows × 6 columns</p>\n",
       "</div>"
      ],
      "text/plain": [
       "                  High         Low        Open       Close     Volume  \\\n",
       "Date                                                                    \n",
       "2017-01-03  105.089996  104.209999  104.940002  104.650002  3741200.0   \n",
       "2017-01-04  105.629997  104.790001  105.110001  104.849998  3029700.0   \n",
       "2017-01-05  105.120003  104.190002  104.519997  104.709999  5087200.0   \n",
       "2017-01-06  105.160004  104.120003  104.980003  104.559998  4109700.0   \n",
       "2017-01-09  104.260002  103.250000  104.160004  103.459999  5603500.0   \n",
       "...                ...         ...         ...         ...        ...   \n",
       "2022-08-10  176.429993  174.720001  175.809998  175.940002  4041100.0   \n",
       "2022-08-11  177.119995  174.669998  176.360001  175.039993  2743800.0   \n",
       "2022-08-12  177.380005  175.380005  175.929993  177.330002  3756200.0   \n",
       "2022-08-15  179.360001  176.800003  177.770004  179.279999  3043100.0   \n",
       "2022-08-16  180.699997  178.639999  179.779999  180.320007  3395700.0   \n",
       "\n",
       "             Adj Close  \n",
       "Date                    \n",
       "2017-01-03   89.133141  \n",
       "2017-01-04   89.303497  \n",
       "2017-01-05   89.184280  \n",
       "2017-01-06   89.056511  \n",
       "2017-01-09   88.119598  \n",
       "...                ...  \n",
       "2022-08-10  175.940002  \n",
       "2022-08-11  175.039993  \n",
       "2022-08-12  177.330002  \n",
       "2022-08-15  179.279999  \n",
       "2022-08-16  180.320007  \n",
       "\n",
       "[1415 rows x 6 columns]"
      ]
     },
     "execution_count": 31,
     "metadata": {},
     "output_type": "execute_result"
    }
   ],
   "source": [
    "pepsi = pdr.get_data_yahoo('PEP', start=\"01/01/2017\", interval=\"d\")\n",
    "pepsi"
   ]
  },
  {
   "cell_type": "code",
   "execution_count": 32,
   "id": "f898e921",
   "metadata": {},
   "outputs": [
    {
     "data": {
      "image/png": "[encoded data removed]",
      "text/plain": [
       "<Figure size 432x288 with 1 Axes>"
      ]
     },
     "metadata": {
      "needs_background": "light"
     },
     "output_type": "display_data"
    }
   ],
   "source": [
    "#Retorno continuo de coca\n",
    "coca[\"r\"] = np.log(coca['Adj Close']) - np.log(coca['Adj Close'].shift(1))\n",
    "plt.hist(coca[\"r\"], bins=36)\n",
    "plt.show()"
   ]
  },
  {
   "cell_type": "code",
   "execution_count": 33,
   "id": "e57a72bd",
   "metadata": {},
   "outputs": [
    {
     "data": {
      "image/png": "[encoded data removed]",
      "text/plain": [
       "<Figure size 432x288 with 1 Axes>"
      ]
     },
     "metadata": {
      "needs_background": "light"
     },
     "output_type": "display_data"
    }
   ],
   "source": [
    "#Retorno continuo de pepsi\n",
    "pepsi[\"r\"] = np.log(pepsi['Adj Close']) - np.log(pepsi['Adj Close'].shift(1))\n",
    "plt.hist(pepsi[\"r\"], bins=36)\n",
    "plt.show()"
   ]
  },
  {
   "cell_type": "code",
   "execution_count": 34,
   "id": "2f7530f7",
   "metadata": {},
   "outputs": [
    {
     "name": "stdout",
     "output_type": "stream",
     "text": [
      "Media de coca: 0.0004382849932698836\n",
      "Media de pepsi: 0.0004983040152898973\n"
     ]
    }
   ],
   "source": [
    "#Media\n",
    "coca_mean = coca[\"r\"].mean()\n",
    "print(\"Media de coca:\", coca_mean)\n",
    "pepsi_mean = pepsi[\"r\"].mean()\n",
    "print(\"Media de pepsi:\", pepsi_mean)"
   ]
  },
  {
   "cell_type": "code",
   "execution_count": 44,
   "id": "13c5fdd8",
   "metadata": {},
   "outputs": [
    {
     "name": "stdout",
     "output_type": "stream",
     "text": [
      "Varianza de coca: 0.00016294085339702368\n",
      "Varianza de pepsi: 0.0001719912912926673\n"
     ]
    }
   ],
   "source": [
    "#Varianza\n",
    "coca_var = coca[\"r\"].var()\n",
    "print(\"Varianza de coca:\", coca_var)\n",
    "pepsi_var = pepsi[\"r\"].var()\n",
    "print(\"Varianza de pepsi:\", pepsi_var)"
   ]
  },
  {
   "cell_type": "code",
   "execution_count": 35,
   "id": "6a7a6676",
   "metadata": {},
   "outputs": [
    {
     "name": "stdout",
     "output_type": "stream",
     "text": [
      "Desviación estándar de coca: 0.01276482876489237\n",
      "Desviasión estándar de pepsi: 0.01311454502804681\n"
     ]
    }
   ],
   "source": [
    "#Desviasión estándar\n",
    "coca_std = coca[\"r\"].std()\n",
    "print(\"Desviación estándar de coca:\", coca_std)\n",
    "pepsi_std = pepsi[\"r\"].std()\n",
    "print(\"Desviasión estándar de pepsi:\", pepsi_std)"
   ]
  },
  {
   "cell_type": "code",
   "execution_count": 48,
   "id": "38bb4415",
   "metadata": {},
   "outputs": [
    {
     "data": {
      "text/plain": [
       "-0.12332047931902335"
      ]
     },
     "execution_count": 48,
     "metadata": {},
     "output_type": "execute_result"
    }
   ],
   "source": [
    "# t-value\n",
    "t_value = (coca_mean - pepsi_mean) / math.sqrt((coca_var + pepsi_var) / coca[\"r\"].count())\n",
    "t_value\n",
    "#Según el t_value arrojado en el código anterior, coca es 0.12 veces menor que pepsi."
   ]
  },
  {
   "attachments": {
    "%E5%9B%BE%E7%89%87-2.png": {
     "image/png": "[encoded data removed]"
    },
    "%E5%9B%BE%E7%89%87.png": {
     "image/png": "[encoded data removed]"
    }
   },
   "cell_type": "markdown",
   "id": "1441bcc8",
   "metadata": {},
   "source": [
    "# Nivel de confianza, error I y valor p\n",
    "El nivel de confianza de una prueba está relacionado con el nivel de error de la prueba; para un nivel de confianza al 95% puede terminar en 5% errónea, y esto es error I.\n",
    "El valor p es la probabilidad de que nos equivoquemos si rechazamos la hipótesis nula.\n",
    "![%E5%9B%BE%E7%89%87.png](attachment:%E5%9B%BE%E7%89%87.png)\n",
    "\n",
    "En donde el nivel de confianza se determina por el valor t.\n",
    "\n",
    "![%E5%9B%BE%E7%89%87-2.png](attachment:%E5%9B%BE%E7%89%87-2.png)"
   ]
  },
  {
   "cell_type": "markdown",
   "id": "2224e966",
   "metadata": {},
   "source": [
    "# CHALLENGE - IS AMD MEAN RETURN HIGHER THAN INTEL MEAN RETURN?"
   ]
  },
  {
   "cell_type": "code",
   "execution_count": 49,
   "id": "f4324c0b",
   "metadata": {},
   "outputs": [],
   "source": [
    "import pandas_datareader as pdr\n",
    "import pandas as pd\n",
    "import numpy as np\n",
    "\n",
    "# Getting price data and selecting adjusted price columns:\n",
    "sprices = pdr.get_data_yahoo(['AMD','INTC'],start=\"01/01/2017\", end=\"08/15/2022\",interval=\"m\")\n",
    "sprices=sprices['Adj Close']"
   ]
  },
  {
   "cell_type": "code",
   "execution_count": 50,
   "id": "847950d6",
   "metadata": {},
   "outputs": [],
   "source": [
    "# Calculating returns:\n",
    "sr = np.log(sprices) - np.log(sprices.shift(1))\n",
    "# Deleting the first month with NAs:\n",
    "sr=sr.dropna()"
   ]
  },
  {
   "cell_type": "code",
   "execution_count": 51,
   "id": "f5759007",
   "metadata": {},
   "outputs": [
    {
     "data": {
      "text/plain": [
       "1.4657496286047325"
      ]
     },
     "execution_count": 51,
     "metadata": {},
     "output_type": "execute_result"
    }
   ],
   "source": [
    "# Stating the hypotheses: \n",
    "# H0: (mean(rAMD) - mean(rINTEL)) = 0\n",
    "# Ha: (mean(rAMD) - mean(rINTEL)) <> 0\n",
    "\n",
    "# Calculating the standard error of the difference of the means:\n",
    "N = sr['AMD'].count()\n",
    "amdvar = sr['AMD'].var()\n",
    "intelvar = sr['INTC'].var()\n",
    "sediff = np.sqrt((1/N) * (amdvar + intelvar ) )\n",
    "\n",
    "# Calculating the t-Statistic:\n",
    "t = (sr['AMD'].mean() - sr['INTC'].mean()) / sediff\n",
    "t"
   ]
  },
  {
   "cell_type": "code",
   "execution_count": 52,
   "id": "9acce83e",
   "metadata": {},
   "outputs": [
    {
     "data": {
      "text/plain": [
       "0.14608665604635424"
      ]
     },
     "execution_count": 52,
     "metadata": {},
     "output_type": "execute_result"
    }
   ],
   "source": [
    "# Calculating the pvalue from the t-Statistic:\n",
    "from scipy import stats as st\n",
    "# The st.t.sf function calculates the 1-tailed pvalue, so we multiply it by 2 to get the 2-tailed pvalue\n",
    "# the degrees of freedom for 2-independent-means t-test is calculated with the following formula:\n",
    "df = ( ((N-1) / N**2) * (amdvar + intelvar)**2  / ( (amdvar/N)**2 + (intelvar/N)**2  ) )\n",
    "# Now we calculate the pvalue with the t and df:\n",
    "pvalue = 2 * st.t.sf(np.abs(t), df)\n",
    "pvalue"
   ]
  },
  {
   "cell_type": "code",
   "execution_count": 53,
   "id": "12c565cb",
   "metadata": {},
   "outputs": [
    {
     "data": {
      "text/plain": [
       "Ttest_indResult(statistic=1.4657496286047325, pvalue=0.14608665604635424)"
      ]
     },
     "execution_count": 53,
     "metadata": {},
     "output_type": "execute_result"
    }
   ],
   "source": [
    "# Using the ttest_ind function from stats:\n",
    "st.ttest_ind(sr['AMD'],sr['INTC'],equal_var=False)\n",
    "# We got the same result as above!\n",
    "# With this function we avoid calculating all steps of the hypothesis test!"
   ]
  },
  {
   "cell_type": "code",
   "execution_count": 57,
   "id": "3f6699eb",
   "metadata": {},
   "outputs": [
    {
     "name": "stderr",
     "output_type": "stream",
     "text": [
      "C:\\Users\\Keyuan\\AppData\\Local\\Programs\\Python\\Python310\\lib\\site-packages\\researchpy\\ttest.py:18: FutureWarning: The series.append method is deprecated and will be removed from pandas in a future version. Use pandas.concat instead.\n",
      "  groups = group1.append(group2, ignore_index= True)\n"
     ]
    },
    {
     "data": {
      "text/plain": [
       "(   Variable      N      Mean        SD        SE  95% Conf.  Interval\n",
       " 0       AMD   67.0  0.033854  0.162034  0.019796  -0.005669  0.073378\n",
       " 1      INTC   67.0  0.001877  0.075058  0.009170  -0.016431  0.020185\n",
       " 2  combined  134.0  0.017866  0.126815  0.010955  -0.003803  0.039535,\n",
       "                Welch's t-test  results\n",
       " 0  Difference (AMD - INTC) =    0.0320\n",
       " 1       Degrees of freedom =   93.8981\n",
       " 2                        t =    1.4657\n",
       " 3    Two side test p value =    0.1461\n",
       " 4   Difference < 0 p value =    0.9270\n",
       " 5   Difference > 0 p value =    0.0730\n",
       " 6                Cohen's d =    0.2532\n",
       " 7                Hedge's g =    0.2518\n",
       " 8            Glass's delta =    0.1973\n",
       " 9              Pearson's r =    0.1496)"
      ]
     },
     "execution_count": 57,
     "metadata": {},
     "output_type": "execute_result"
    }
   ],
   "source": [
    "import researchpy as rp\n",
    "# Using the ttest function from researchpy:\n",
    "rp.ttest(sr['AMD'],sr['INTC'],equal_variances=False)\n",
    "# We got the same result as above!\n",
    "# With this function we avoid calculating all steps of the hypothesis test!"
   ]
  },
  {
   "cell_type": "code",
   "execution_count": null,
   "id": "475ba643",
   "metadata": {},
   "outputs": [],
   "source": []
  }
 ],
 "metadata": {
  "kernelspec": {
   "display_name": "Python 3 (ipykernel)",
   "language": "python",
   "name": "python3"
  },
  "language_info": {
   "codemirror_mode": {
    "name": "ipython",
    "version": 3
   },
   "file_extension": ".py",
   "mimetype": "text/x-python",
   "name": "python",
   "nbconvert_exporter": "python",
   "pygments_lexer": "ipython3",
   "version": "3.10.6"
  }
 },
 "nbformat": 4,
 "nbformat_minor": 5
}
